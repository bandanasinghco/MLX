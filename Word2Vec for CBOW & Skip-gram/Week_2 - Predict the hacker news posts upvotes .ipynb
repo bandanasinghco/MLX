{
 "cells": [
  {
   "cell_type": "markdown",
   "id": "86ef0099-ce2c-4fba-b196-8df6b05641fa",
   "metadata": {},
   "source": [
    "The dataset preparation involves collecting the titles of posts from Hacker News and their corresponding upvote scores. This data will be used to train our model. The upvote score is our target variable (what we want to predict), and the titles are our features (the input data)."
   ]
  },
  {
   "cell_type": "code",
   "execution_count": null,
   "id": "01967b3b-40fd-4c3f-8a39-31b9fe12609f",
   "metadata": {},
   "outputs": [],
   "source": [
    "title,upvotes\n",
    "\"How to Learn Python\",100\n",
    "\"Introducing Our New API\",300\n",
    "\"Updates in the AI World\",150\n"
   ]
  },
  {
   "cell_type": "code",
   "execution_count": 2,
   "id": "aba01e7e-6220-45fb-ac6f-566af3767957",
   "metadata": {},
   "outputs": [
    {
     "name": "stdout",
     "output_type": "stream",
     "text": [
      "Requirement already satisfied: psycopg2-binary in /Users/bandanasingh/anaconda3/lib/python3.10/site-packages (2.9.9)\n",
      "Note: you may need to restart the kernel to use updated packages.\n"
     ]
    }
   ],
   "source": [
    "pip install psycopg2-binary"
   ]
  },
  {
   "cell_type": "code",
   "execution_count": null,
   "id": "09f9c5f3-e766-4bf3-9159-d35037110390",
   "metadata": {},
   "outputs": [],
   "source": [
    "import os\n",
    "import psycopg2 as ps\n",
    "import pandas as pd \n",
    "\n",
    "\n",
    "dbname = 'arcanum'\n",
    "user = 'arcanum'\n",
    "password = ''\n",
    "host = 'arcanum'\n",
    "port = '5433' \n",
    "\n",
    "conn = psycopg2.connect(\n",
    "    dbname=dbname,\n",
    "    user=user,\n",
    "    password=password,\n",
    "    host=host,\n",
    "    port=port\n",
    ")"
   ]
  },
  {
   "cell_type": "code",
   "execution_count": null,
   "id": "0ae7e66c-63c9-4cb6-87ab-777326869eb5",
   "metadata": {},
   "outputs": [],
   "source": [
    "def fetch_data(conn):\n",
    "    # Cursor to perform database operations\n",
    "    cursor = conn.cursor()\n",
    "    \n",
    "    # SQL query to execute\n",
    "    query = \"SELECT title, upvotes FROM hacker_news\"\n",
    "    \n",
    "    # Execute the query\n",
    "    cursor.execute(query)\n",
    "    \n",
    "    # Fetch the results\n",
    "    results = cursor.fetchall()\n",
    "    \n",
    "    cursor.close()  # Close the cursor\n",
    "    return results\n",
    "\n",
    "data = fetch_data(conn)\n"
   ]
  },
  {
   "cell_type": "code",
   "execution_count": null,
   "id": "60618262-ebfc-4365-ad42-781bfbb3526c",
   "metadata": {},
   "outputs": [],
   "source": [
    "import pandas as pd\n",
    "\n",
    "# Convert to DataFrame\n",
    "df = pd.DataFrame(data, columns=['title', 'upvotes'])\n",
    "print(df.head())\n"
   ]
  },
  {
   "cell_type": "code",
   "execution_count": null,
   "id": "d6a38719-85e6-41e0-aa18-ffec53164df4",
   "metadata": {},
   "outputs": [],
   "source": [
    "conn.close()"
   ]
  },
  {
   "cell_type": "code",
   "execution_count": null,
   "id": "f892aa4e-5590-4f7a-b3ee-8a0e6b8fbe0e",
   "metadata": {},
   "outputs": [],
   "source": [
    "# import the tokens\n",
    "# initiliaze the tokenizers\n",
    "\n",
    "import sentencepiece as spm\n",
    "\n"
   ]
  },
  {
   "cell_type": "code",
   "execution_count": null,
   "id": "ebf12442-8df5-4361-8fbc-1cbde248e2c4",
   "metadata": {},
   "outputs": [],
   "source": [
    "# create a vocabulary\n",
    "\n"
   ]
  }
 ],
 "metadata": {
  "kernelspec": {
   "display_name": "Python 3 (ipykernel)",
   "language": "python",
   "name": "python3"
  },
  "language_info": {
   "codemirror_mode": {
    "name": "ipython",
    "version": 3
   },
   "file_extension": ".py",
   "mimetype": "text/x-python",
   "name": "python",
   "nbconvert_exporter": "python",
   "pygments_lexer": "ipython3",
   "version": "3.12.2"
  }
 },
 "nbformat": 4,
 "nbformat_minor": 5
}
