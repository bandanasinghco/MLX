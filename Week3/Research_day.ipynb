{
 "cells": [
  {
   "cell_type": "markdown",
   "id": "24557862-2685-4363-8fca-4e65c9657284",
   "metadata": {},
   "source": [
    "# Bidirectional RNN (BiRNN) - our task is to implement and research about BiRNN."
   ]
  },
  {
   "cell_type": "code",
   "execution_count": 1,
   "id": "ec06b05e-1bbc-40e9-a704-1634cce3a4ef",
   "metadata": {},
   "outputs": [],
   "source": [
    "# Apply RNN basic \n",
    "# We'll create a simple model that learns to predict the next character in a sequence of characters from a given text. "
   ]
  },
  {
   "cell_type": "code",
   "execution_count": 22,
   "id": "a1d6a943-7a6a-4e60-a69f-c47478a3726b",
   "metadata": {},
   "outputs": [],
   "source": [
    "import torch\n",
    "import torch.nn as nn\n",
    "import numpy as np\n",
    "import random\n",
    "import string"
   ]
  },
  {
   "cell_type": "code",
   "execution_count": 23,
   "id": "0b62bafa-c1eb-4c66-81be-64f281091f81",
   "metadata": {},
   "outputs": [
    {
     "data": {
      "text/plain": [
       "{' ': 0,\n",
       " '(': 1,\n",
       " ')': 2,\n",
       " ',': 3,\n",
       " '.': 4,\n",
       " 'A': 5,\n",
       " 'E': 6,\n",
       " 'I': 7,\n",
       " 'N': 8,\n",
       " 'O': 9,\n",
       " 'T': 10,\n",
       " 'a': 11,\n",
       " 'b': 12,\n",
       " 'c': 13,\n",
       " 'd': 14,\n",
       " 'e': 15,\n",
       " 'f': 16,\n",
       " 'g': 17,\n",
       " 'h': 18,\n",
       " 'i': 19,\n",
       " 'j': 20,\n",
       " 'k': 21,\n",
       " 'l': 22,\n",
       " 'm': 23,\n",
       " 'n': 24,\n",
       " 'o': 25,\n",
       " 'p': 26,\n",
       " 'q': 27,\n",
       " 'r': 28,\n",
       " 's': 29,\n",
       " 't': 30,\n",
       " 'u': 31,\n",
       " 'v': 32,\n",
       " 'w': 33,\n",
       " 'x': 34,\n",
       " 'y': 35,\n",
       " 'z': 36,\n",
       " '—': 37,\n",
       " '“': 38,\n",
       " '”': 39}"
      ]
     },
     "execution_count": 23,
     "metadata": {},
     "output_type": "execute_result"
    }
   ],
   "source": [
    "# Define a simple text corpus\n",
    "text = \"Neural networks, or artificial neural networks (ANNs), are comprised of node layers, containing an input layer, one or more hidden layers, and an output layer. Each node, or artificial neuron, connects to another and has an associated weight and threshold. If the output of any individual node is above the specified threshold value, that node is activated, sending data to the next layer of the network. Otherwise, no data is passed along to the next layer of the network by that node. The “deep” in deep learning is just referring to the number of layers in a neural network. A neural network that consists of more than three layers—which would be inclusive of the input and the output—can be considered a deep learning algorithm or a deep neural network. A neural network that only has three layers is just a basic neural network..\"\n",
    "text += \" \" + string.ascii_lowercase  # Adding the alphabet to our corpus for diversity\n",
    "\n",
    "# Create a mapping of characters to integers\n",
    "chars = sorted(set(text))\n",
    "char_to_int = {ch: i for i, ch in enumerate(chars)}\n",
    "int_to_char = {i: ch for i, ch in enumerate(chars)}\n",
    "\n",
    "\n",
    "char_to_int"
   ]
  },
  {
   "cell_type": "code",
   "execution_count": 24,
   "id": "b5511dd9-a4ea-43cb-aa91-699fd341336c",
   "metadata": {},
   "outputs": [],
   "source": [
    "# Prepare dataset\n",
    "def char_sequences(text, seq_length):\n",
    "    inputs = []\n",
    "    targets = []\n",
    "    for i in range(len(text) - seq_length):\n",
    "        input_seq = text[i:i+seq_length]\n",
    "        target = text[i+seq_length]\n",
    "        inputs.append([char_to_int[char] for char in input_seq])\n",
    "        targets.append(char_to_int[target])\n",
    "    return np.array(inputs), np.array(targets)\n",
    "\n",
    "seq_length = 10  # Length of the sequence to be taken as input\n",
    "\n",
    "X, y = char_sequences(text, seq_length)\n"
   ]
  },
  {
   "cell_type": "code",
   "execution_count": 26,
   "id": "deafbc1f-1c27-4654-a6ce-73802aea253c",
   "metadata": {},
   "outputs": [],
   "source": [
    "# Convert to tensors\n",
    "X = torch.from_numpy(X).to(torch.int64)\n",
    "y = torch.from_numpy(y).to(torch.int64)"
   ]
  },
  {
   "cell_type": "code",
   "execution_count": 32,
   "id": "25ec35ca-82f7-4603-bff6-b786c76dd031",
   "metadata": {},
   "outputs": [
    {
     "data": {
      "text/plain": [
       "tensor([33, 25, 28, 21, 29,  3,  0, 25, 28,  0, 11, 28, 30, 19, 16, 19, 13, 19,\n",
       "        11, 22,  0, 24, 15, 31, 28, 11, 22,  0, 24, 15, 30, 33, 25, 28, 21, 29,\n",
       "         0,  1,  5,  8,  8, 29,  2,  3,  0, 11, 28, 15,  0, 13, 25, 23, 26, 28,\n",
       "        19, 29, 15, 14,  0, 25, 16,  0, 24, 25, 14, 15,  0, 22, 11, 35, 15, 28,\n",
       "        29,  3,  0, 13, 25, 24, 30, 11, 19, 24, 19, 24, 17,  0, 11, 24,  0, 19,\n",
       "        24, 26, 31, 30,  0, 22, 11, 35, 15, 28,  3,  0, 25, 24, 15,  0, 25, 28,\n",
       "         0, 23, 25, 28, 15,  0, 18, 19, 14, 14, 15, 24,  0, 22, 11, 35, 15, 28,\n",
       "        29,  3,  0, 11, 24, 14,  0, 11, 24,  0, 25, 31, 30, 26, 31, 30,  0, 22,\n",
       "        11, 35, 15, 28,  4,  0,  6, 11, 13, 18,  0, 24, 25, 14, 15,  3,  0, 25,\n",
       "        28,  0, 11, 28, 30, 19, 16, 19, 13, 19, 11, 22,  0, 24, 15, 31, 28, 25,\n",
       "        24,  3,  0, 13, 25, 24, 24, 15, 13, 30, 29,  0, 30, 25,  0, 11, 24, 25,\n",
       "        30, 18, 15, 28,  0, 11, 24, 14,  0, 18, 11, 29,  0, 11, 24,  0, 11, 29,\n",
       "        29, 25, 13, 19, 11, 30, 15, 14,  0, 33, 15, 19, 17, 18, 30,  0, 11, 24,\n",
       "        14,  0, 30, 18, 28, 15, 29, 18, 25, 22, 14,  4,  0,  7, 16,  0, 30, 18,\n",
       "        15,  0, 25, 31, 30, 26, 31, 30,  0, 25, 16,  0, 11, 24, 35,  0, 19, 24,\n",
       "        14, 19, 32, 19, 14, 31, 11, 22,  0, 24, 25, 14, 15,  0, 19, 29,  0, 11,\n",
       "        12, 25, 32, 15,  0, 30, 18, 15,  0, 29, 26, 15, 13, 19, 16, 19, 15, 14,\n",
       "         0, 30, 18, 28, 15, 29, 18, 25, 22, 14,  0, 32, 11, 22, 31, 15,  3,  0,\n",
       "        30, 18, 11, 30,  0, 24, 25, 14, 15,  0, 19, 29,  0, 11, 13, 30, 19, 32,\n",
       "        11, 30, 15, 14,  3,  0, 29, 15, 24, 14, 19, 24, 17,  0, 14, 11, 30, 11,\n",
       "         0, 30, 25,  0, 30, 18, 15,  0, 24, 15, 34, 30,  0, 22, 11, 35, 15, 28,\n",
       "         0, 25, 16,  0, 30, 18, 15,  0, 24, 15, 30, 33, 25, 28, 21,  4,  0,  9,\n",
       "        30, 18, 15, 28, 33, 19, 29, 15,  3,  0, 24, 25,  0, 14, 11, 30, 11,  0,\n",
       "        19, 29,  0, 26, 11, 29, 29, 15, 14,  0, 11, 22, 25, 24, 17,  0, 30, 25,\n",
       "         0, 30, 18, 15,  0, 24, 15, 34, 30,  0, 22, 11, 35, 15, 28,  0, 25, 16,\n",
       "         0, 30, 18, 15,  0, 24, 15, 30, 33, 25, 28, 21,  0, 12, 35,  0, 30, 18,\n",
       "        11, 30,  0, 24, 25, 14, 15,  4,  0, 10, 18, 15,  0, 38, 14, 15, 15, 26,\n",
       "        39,  0, 19, 24,  0, 14, 15, 15, 26,  0, 22, 15, 11, 28, 24, 19, 24, 17,\n",
       "         0, 19, 29,  0, 20, 31, 29, 30,  0, 28, 15, 16, 15, 28, 28, 19, 24, 17,\n",
       "         0, 30, 25,  0, 30, 18, 15,  0, 24, 31, 23, 12, 15, 28,  0, 25, 16,  0,\n",
       "        22, 11, 35, 15, 28, 29,  0, 19, 24,  0, 11,  0, 24, 15, 31, 28, 11, 22,\n",
       "         0, 24, 15, 30, 33, 25, 28, 21,  4,  0,  5,  0, 24, 15, 31, 28, 11, 22,\n",
       "         0, 24, 15, 30, 33, 25, 28, 21,  0, 30, 18, 11, 30,  0, 13, 25, 24, 29,\n",
       "        19, 29, 30, 29,  0, 25, 16,  0, 23, 25, 28, 15,  0, 30, 18, 11, 24,  0,\n",
       "        30, 18, 28, 15, 15,  0, 22, 11, 35, 15, 28, 29, 37, 33, 18, 19, 13, 18,\n",
       "         0, 33, 25, 31, 22, 14,  0, 12, 15,  0, 19, 24, 13, 22, 31, 29, 19, 32,\n",
       "        15,  0, 25, 16,  0, 30, 18, 15,  0, 19, 24, 26, 31, 30,  0, 11, 24, 14,\n",
       "         0, 30, 18, 15,  0, 25, 31, 30, 26, 31, 30, 37, 13, 11, 24,  0, 12, 15,\n",
       "         0, 13, 25, 24, 29, 19, 14, 15, 28, 15, 14,  0, 11,  0, 14, 15, 15, 26,\n",
       "         0, 22, 15, 11, 28, 24, 19, 24, 17,  0, 11, 22, 17, 25, 28, 19, 30, 18,\n",
       "        23,  0, 25, 28,  0, 11,  0, 14, 15, 15, 26,  0, 24, 15, 31, 28, 11, 22,\n",
       "         0, 24, 15, 30, 33, 25, 28, 21,  4,  0,  5,  0, 24, 15, 31, 28, 11, 22,\n",
       "         0, 24, 15, 30, 33, 25, 28, 21,  0, 30, 18, 11, 30,  0, 25, 24, 22, 35,\n",
       "         0, 18, 11, 29,  0, 30, 18, 28, 15, 15,  0, 22, 11, 35, 15, 28, 29,  0,\n",
       "        19, 29,  0, 20, 31, 29, 30,  0, 11,  0, 12, 11, 29, 19, 13,  0, 24, 15,\n",
       "        31, 28, 11, 22,  0, 24, 15, 30, 33, 25, 28, 21,  4,  4,  0, 11, 12, 13,\n",
       "        14, 15, 16, 17, 18, 19, 20, 21, 22, 23, 24, 25, 26, 27, 28, 29, 30, 31,\n",
       "        32, 33, 34, 35, 36])"
      ]
     },
     "execution_count": 32,
     "metadata": {},
     "output_type": "execute_result"
    }
   ],
   "source": [
    "y"
   ]
  },
  {
   "cell_type": "code",
   "execution_count": 28,
   "id": "3f5a6838-e18e-4341-b644-eda8d4c3f478",
   "metadata": {},
   "outputs": [],
   "source": [
    "class TextGeneratorRNN(nn.Module):\n",
    "    def __init__(self, input_size, hidden_size, output_size):\n",
    "        super(TextGeneratorRNN, self).__init__()\n",
    "        self.embed = nn.Embedding(input_size, hidden_size)\n",
    "        self.rnn = nn.RNN(hidden_size, hidden_size, batch_first=True)\n",
    "        self.fc = nn.Linear(hidden_size, output_size)\n",
    "    \n",
    "    def forward(self, x, hidden=None):\n",
    "        x = self.embed(x)\n",
    "        out, hidden = self.rnn(x, hidden)\n",
    "        out = self.fc(out[:, -1, :])  # Get the output for the last time step\n",
    "        return out, hidden\n",
    "\n",
    "input_size = len(chars)\n",
    "hidden_size = 100\n",
    "output_size = len(chars)\n",
    "\n",
    "model = TextGeneratorRNN(input_size, hidden_size, output_size)\n"
   ]
  },
  {
   "cell_type": "code",
   "execution_count": 29,
   "id": "6d95a598-ed1a-42e2-99a4-d9b4a194ea9f",
   "metadata": {},
   "outputs": [
    {
     "name": "stdout",
     "output_type": "stream",
     "text": [
      "Epoch 20, Loss: 1.5448832511901855\n",
      "Epoch 40, Loss: 0.7528386116027832\n",
      "Epoch 60, Loss: 0.2651006877422333\n",
      "Epoch 80, Loss: 0.08779888600111008\n",
      "Epoch 100, Loss: 0.05244646593928337\n",
      "Epoch 120, Loss: 0.043429240584373474\n",
      "Epoch 140, Loss: 0.039631426334381104\n",
      "Epoch 160, Loss: 0.03759302943944931\n",
      "Epoch 180, Loss: 0.036369722336530685\n",
      "Epoch 200, Loss: 0.03540007397532463\n"
     ]
    }
   ],
   "source": [
    "criterion = nn.CrossEntropyLoss()\n",
    "optimizer = torch.optim.Adam(model.parameters(), lr=0.005)\n",
    "\n",
    "num_epochs = 200\n",
    "for epoch in range(num_epochs):\n",
    "    model.train()\n",
    "    optimizer.zero_grad()\n",
    "    output, _ = model(X)\n",
    "    loss = criterion(output, y)\n",
    "    loss.backward()\n",
    "    optimizer.step()\n",
    "    \n",
    "    if (epoch+1) % 20 == 0:\n",
    "        print(f'Epoch {epoch+1}, Loss: {loss.item()}')\n"
   ]
  },
  {
   "cell_type": "code",
   "execution_count": 30,
   "id": "196c85c1-9e2c-41e8-8869-a8969242e6d9",
   "metadata": {},
   "outputs": [
    {
     "name": "stdout",
     "output_type": "stream",
     "text": [
      "talk about uks passed algorithm or ar is ano neural network.. abcinclaye, leat lanetwork. A neural network. A neural network. A neural network. A neural network. Otherwise, no data twork by that consists of more hijuac network. Otherwise, no the output of the network that cone connects is just a basic neural network. A neural network that cone consed of noded has an as an artividual node is aconon, or artificial networks (ANNs), are or artificial network.. abconsider an noNgoring node, of the nutumprre, that\n"
     ]
    }
   ],
   "source": [
    "def generate_text(model, start_str='uk weather', length=100):\n",
    "    model.eval()\n",
    "    start_input = torch.tensor([char_to_int[c] for c in start_str], dtype=torch.int64).unsqueeze(0)\n",
    "    generated_text = start_str\n",
    "\n",
    "    hidden = None\n",
    "    for _ in range(length):\n",
    "        output, hidden = model(start_input, hidden)\n",
    "        probabilities = torch.softmax(output, dim=1).detach().numpy().flatten()\n",
    "        next_char_id = np.random.choice(len(chars), p=probabilities)\n",
    "        next_char = int_to_char[next_char_id]\n",
    "        generated_text += next_char\n",
    "\n",
    "        start_input = torch.tensor([[next_char_id]], dtype=torch.int64)\n",
    "\n",
    "    return generated_text\n",
    "\n",
    "# Generate and print some text\n",
    "print(generate_text(model, start_str=\"talk about uk\", length=500))\n"
   ]
  },
  {
   "cell_type": "code",
   "execution_count": null,
   "id": "df5900dd-5eb2-45bb-bfad-a510b1598fb7",
   "metadata": {},
   "outputs": [],
   "source": []
  },
  {
   "cell_type": "code",
   "execution_count": null,
   "id": "0a9afe11-78c3-436d-9492-93fdb0266e94",
   "metadata": {},
   "outputs": [],
   "source": []
  },
  {
   "cell_type": "code",
   "execution_count": null,
   "id": "4dac7c1f-a420-41f8-99e4-e90158337178",
   "metadata": {},
   "outputs": [],
   "source": []
  }
 ],
 "metadata": {
  "kernelspec": {
   "display_name": "Python 3 (ipykernel)",
   "language": "python",
   "name": "python3"
  },
  "language_info": {
   "codemirror_mode": {
    "name": "ipython",
    "version": 3
   },
   "file_extension": ".py",
   "mimetype": "text/x-python",
   "name": "python",
   "nbconvert_exporter": "python",
   "pygments_lexer": "ipython3",
   "version": "3.12.2"
  }
 },
 "nbformat": 4,
 "nbformat_minor": 5
}
